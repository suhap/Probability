{
  "nbformat": 4,
  "nbformat_minor": 0,
  "metadata": {
    "colab": {
      "provenance": [],
      "include_colab_link": true
    },
    "kernelspec": {
      "name": "python3",
      "display_name": "Python 3"
    }
  },
  "cells": [
    {
      "cell_type": "markdown",
      "metadata": {
        "id": "view-in-github",
        "colab_type": "text"
      },
      "source": [
        "<a href=\"https://colab.research.google.com/github/suhap/Probability/blob/master/01_Giris.ipynb\" target=\"_parent\"><img src=\"https://colab.research.google.com/assets/colab-badge.svg\" alt=\"Open In Colab\"/></a>"
      ]
    },
    {
      "cell_type": "markdown",
      "metadata": {
        "id": "AD5W18NzPLKV"
      },
      "source": [
        "# 1. Sayma\n",
        "\n",
        "Daha önce öğrenile sayma kavramı, bu derste öğrenilecek bir çok konuya temel oluşturacaktır. Ayrıca ders kapsamında öngörülebilir durumlar için sayma işlemi ve farklı nesnelerin nasıl sayılacağı öğrenilecektir. İyi öğrenilmiş sayma işlemi olasılık ve makine öğrenmesi gibi derslerin anlaşılmasını kolaylaştıracaktır. \n",
        "\n",
        "# 2. Saymanın Temel İlkeleri\n",
        "## 1. Çarpma Yolu ile Sayma\n",
        "\n",
        "**Tanım:**  E olayı m farklı yolla F olayı (E olayının hiç bir etkisi olmadan) ise n farklı yolla yapılabiliyor ise E ve F olayları birlikte mxn farklı yolla yapılabilir. "
      ]
    },
    {
      "cell_type": "code",
      "source": [
        "def counter(n1, n2, n3, n4, n5):\n",
        "    k = 0\n",
        "    for i1 in range(1, n1+1):\n",
        "        for i2 in range(1, n2+1):\n",
        "            for i3 in range(1, n3+1):\n",
        "                for i4 in range(1, n4+1):\n",
        "                    for i5 in range(1, n5+1):\n",
        "                        k += 1\n",
        "    return k    \n",
        "k=counter(5,4,3,2,1)\n",
        "print(k)"
      ],
      "metadata": {
        "colab": {
          "base_uri": "https://localhost:8080/"
        },
        "id": "2INL50oVymEV",
        "outputId": "cd73cdb4-579d-4b82-bdf3-fcff0bd1faa8"
      },
      "execution_count": null,
      "outputs": [
        {
          "output_type": "stream",
          "name": "stdout",
          "text": [
            "120\n"
          ]
        }
      ]
    },
    {
      "cell_type": "markdown",
      "source": [
        "**Örnek:** 27 bilgisayara sahip bir sunucu platformunda her bilgisayarın erişilebilir 15 portu olduğu varsayılsın. Bu platforma bağlanmak isteyen istemci kaç farklı şekilde bağlanabilir. "
      ],
      "metadata": {
        "id": "dOqt-q6Vz1Lj"
      }
    },
    {
      "cell_type": "markdown",
      "source": [
        "\n",
        "![soyutlamaTablosu](https://raw.githubusercontent.com/suhap/probability/master/resource/1-1.png)\n"
      ],
      "metadata": {
        "id": "SryifYsB1xSL"
      }
    }
  ]
}
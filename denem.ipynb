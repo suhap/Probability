{
  "nbformat": 4,
  "nbformat_minor": 0,
  "metadata": {
    "colab": {
      "name": "Untitled1.ipynb",
      "provenance": [],
      "authorship_tag": "ABX9TyMVaFOOtObtAhmhesf5fTYn",
      "include_colab_link": true
    },
    "kernelspec": {
      "name": "python3",
      "display_name": "Python 3"
    },
    "language_info": {
      "name": "python"
    }
  },
  "cells": [
    {
      "cell_type": "markdown",
      "metadata": {
        "id": "view-in-github",
        "colab_type": "text"
      },
      "source": [
        "<a href=\"https://colab.research.google.com/github/suhap/Probability/blob/master/denem.ipynb\" target=\"_parent\"><img src=\"https://colab.research.google.com/assets/colab-badge.svg\" alt=\"Open In Colab\"/></a>"
      ]
    },
    {
      "cell_type": "markdown",
      "metadata": {
        "id": "KE0SRt19EbAX"
      },
      "source": [
        "Soru 1: Permütasyon\n",
        "16 kareden oluşan 1. şeklin her satır ve her sütununda bir kare karalanarak 2. şekildeki gibi desen elde edilir. Bu kurala göre, en çok kaç farklı desen elde edilebilir?\n",
        "\n",
        "![fig:square](https://www.matematikkolay.net/wp-content/uploads/2017/02/komb_sgr9.png) <hr>"
      ]
    }
  ]
}
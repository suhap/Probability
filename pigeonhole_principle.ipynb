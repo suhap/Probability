{
  "nbformat": 4,
  "nbformat_minor": 0,
  "metadata": {
    "colab": {
      "name": "Copy of pigeonhole-principle.ipynb",
      "version": "0.3.2",
      "provenance": [],
      "include_colab_link": true
    },
    "kernelspec": {
      "name": "python3",
      "display_name": "Python 3"
    }
  },
  "cells": [
    {
      "cell_type": "markdown",
      "metadata": {
        "id": "view-in-github",
        "colab_type": "text"
      },
      "source": [
        "<a href=\"https://colab.research.google.com/github/suhap/Probability/blob/master/pigeonhole_principle.ipynb\" target=\"_parent\"><img src=\"https://colab.research.google.com/assets/colab-badge.svg\" alt=\"Open In Colab\"/></a>"
      ]
    },
    {
      "metadata": {
        "id": "lulW78ChIONt",
        "colab_type": "text"
      },
      "cell_type": "markdown",
      "source": [
        "#Güvercin Yuvası İkesi\n",
        "4 yuva ve 5 güvercinimiz olsun, Güvercinler yuvalarına girmek istediğinde en az bir yuvada birden fazla güvercin olacaktır.   \n",
        "\n",
        " \n"
      ]
    },
    {
      "metadata": {
        "id": "ZN2OmvQH0jS4",
        "colab_type": "text"
      },
      "cell_type": "markdown",
      "source": [
        "*Örnek 1. Küçük Gauss babasıyla ormanda gezerken sormuş:  \n",
        "− Bu ormanda iki ağacın yaprak  sayısının aynı olması hangi koşula bağlıdır? \n",
        "Baba Gauss cevap veremeyince yanıtı yine kendisi vermiş:  \n",
        "− Eğer ormandaki yapraklı ağaç sayısı, bu ormanın en çok yaprağı olan ağacın yaprak sayısından daha fazlaysa, en az iki ağacın yaprak saıyısı aynıdır.*  \n",
        "\n",
        "Ormanda 5 ağaç olsun ve her ağaç en fazla 4 yapraklı olsun. İlk dört ağacın yaprak sayıları 1, 2, 3, 4 olabilir. Ancak son ağacın yaprak sayısı bu sayılardan birine eşit  olacaktır.  "
      ]
    },
    {
      "metadata": {
        "id": "w3mFQPjX0xsi",
        "colab_type": "text"
      },
      "cell_type": "markdown",
      "source": [
        "\n",
        "*Örnek 2. Bir düzlemin bütün noktaları iki renkle boyanırsa, dört köşesi de aynı renkte olan\n",
        "bir dikdörtgen vardır.*  \n",
        "3 yatay ve 9 dikey doğru cizelim. 3 nokta iki renge 2^3 = 8 degşik sekilde boyanabileceğinden (renklere 0 ve 1 olsun: 000, 001, 010, 011, 100, 101, 110, 111), 9 dikey doğrunun en az ikisi aynı biçimde renklendirilmiş olmalıdır. 3 noktadan en az ikisi aynı renk olacağından aranan dikdörtgen bulunmuş olur"
      ]
    },
    {
      "metadata": {
        "id": "FaXWTWwRwHpB",
        "colab_type": "text"
      },
      "cell_type": "markdown",
      "source": [
        " \n",
        "![pigenhole1](https://github.com/suhap/Probability/blob/master/pigenhole1.png?raw=true)\n",
        "\n",
        "\n",
        "\n",
        "\n",
        "\n",
        "\n",
        "\n",
        "\n"
      ]
    },
    {
      "metadata": {
        "id": "1DXRa8ic4lME",
        "colab_type": "text"
      },
      "cell_type": "markdown",
      "source": [
        "sas"
      ]
    }
  ]
}
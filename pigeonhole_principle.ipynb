{
  "nbformat": 4,
  "nbformat_minor": 0,
  "metadata": {
    "colab": {
      "name": "Copy of pigeonhole-principle.ipynb",
      "provenance": [],
      "include_colab_link": true
    },
    "kernelspec": {
      "name": "python3",
      "display_name": "Python 3"
    }
  },
  "cells": [
    {
      "cell_type": "markdown",
      "metadata": {
        "id": "view-in-github",
        "colab_type": "text"
      },
      "source": [
        "<a href=\"https://colab.research.google.com/github/suhap/Probability/blob/master/pigeonhole_principle.ipynb\" target=\"_parent\"><img src=\"https://colab.research.google.com/assets/colab-badge.svg\" alt=\"Open In Colab\"/></a>"
      ]
    },
    {
      "cell_type": "markdown",
      "metadata": {
        "id": "lulW78ChIONt",
        "colab_type": "text"
      },
      "source": [
        "#Güvercin Yuvası İkesi\n",
        "4 yuva ve 5 güvercinimiz olsun, Güvercinler yuvalarına girmek istediğinde en az bir yuvada birden fazla güvercin olacaktır.   \n",
        "\n",
        " \n"
      ]
    },
    {
      "cell_type": "markdown",
      "metadata": {
        "id": "ZN2OmvQH0jS4",
        "colab_type": "text"
      },
      "source": [
        "*Örnek 1. Küçük Gauss babasıyla ormanda gezerken sormuş:  \n",
        "− Bu ormanda iki ağacın yaprak  sayısının aynı olması hangi koşula bağlıdır? \n",
        "Baba Gauss cevap veremeyince yanıtı yine kendisi vermiş:  \n",
        "− Eğer ormandaki yapraklı ağaç sayısı, bu ormanın en çok yaprağı olan ağacın yaprak sayısından daha fazlaysa, en az iki ağacın yaprak saıyısı aynıdır.*  \n",
        "\n",
        "Ormanda 5 ağaç olsun ve her ağaç en fazla 4 yapraklı olsun. İlk dört ağacın yaprak sayıları 1, 2, 3, 4 olabilir. Ancak son ağacın yaprak sayısı bu sayılardan birine eşit  olacaktır.  "
      ]
    },
    {
      "cell_type": "markdown",
      "metadata": {
        "id": "w3mFQPjX0xsi",
        "colab_type": "text"
      },
      "source": [
        "\n",
        "*Örnek 2. Bir düzlemin bütün noktaları iki renkle boyanırsa, dört köşesi de aynı renkte olan\n",
        "bir dikdörtgen vardır.*  \n",
        "3 yatay ve 9 dikey doğru cizelim. 3 nokta iki renge 2^3 = 8 degşik sekilde boyanabileceğinden (renklere 0 ve 1 olsun: 000, 001, 010, 011, 100, 101, 110, 111), 9 dikey doğrunun en az ikisi aynı biçimde renklendirilmiş olmalıdır. 3 noktadan en az ikisi aynı renk olacağından aranan dikdörtgen bulunmuş olur"
      ]
    },
    {
      "cell_type": "markdown",
      "metadata": {
        "id": "FaXWTWwRwHpB",
        "colab_type": "text"
      },
      "source": [
        " \n",
        "![pigenhole1](https://github.com/suhap/Probability/blob/master/pigenhole1.png?raw=true)\n",
        "\n",
        "\n",
        "\n",
        "\n",
        "\n",
        "\n",
        "\n",
        "\n"
      ]
    },
    {
      "cell_type": "markdown",
      "metadata": {
        "colab_type": "text",
        "id": "Up6QYiBiqFP-"
      },
      "source": [
        "*Örnek 3. 1’le 50 arasından herhangi on sayı seçin.  Şimdi çok iddialı bir şey söyleyeceğim: Bu on sayı arasından, toplamları birbirine eşit olan iki tane beş sayılık küme bulabilirsiniz.*  \n",
        "\n",
        "Örneğin;\n",
        "\n",
        "\\{2, 5, 24, 26, 27, 30, 33, 34, 42, 50\\} \n",
        "\n",
        "sayılarınızı seçtiniz. Aşağıdaki beş öğeli altkümelere bakalım:\n",
        "\n",
        "\\{2, 5, 24, 26, 27, 30, 33, 34, 42, 50\\}\n",
        "\n",
        "Bu iki kümenin sayılarının toplamları birbirine eşittir. İnanmazsanız toplayın. A, on sayılık kümemiz olsun. A’nın kaç tane beş öğeli altkümesi vardır?\n",
        "\n",
        "Bu sorunu  cevabı 10'un 5 li kombinasyonudur. Oda 252 eder. \n",
        "\n",
        "Diğer taraftan beş öğenin toplamı en az 1+2+3+4+5 = 15 en çok ise 46+ 47+48+49+50=240 olmaktadır. Dolayısıyla toplamlar 240 -15+1=226 arasında değişmektedir. \n",
        "\n",
        "Sonuç olarak 252 tane küme toplamı 226 sayıdan biri olmak zorunda dolayısıyla güvercin yuvası ilkesine göre bu 252 toplamdan en az ikisi aynı olmak zorundadır. (ref:https://sarkac.org/2018/02/sapkadan-guvercin-cikarmak/)\n",
        "\n",
        " \n",
        "\n"
      ]
    },
    {
      "cell_type": "markdown",
      "metadata": {
        "colab_type": "text",
        "id": "9av_LLZCYs7F"
      },
      "source": [
        "*Örnek 4. Kenar uzunluğu 2 birim olan bir eşkenar uçgeninin içinde alınan beş noktadan en az ikisi arasındaki uzaklığın 1’den küçükeşit olduğunu gösteriniz.*  \n",
        "\n",
        "\n",
        "\n",
        " \n",
        "\n"
      ]
    },
    {
      "cell_type": "markdown",
      "metadata": {
        "colab_type": "text",
        "id": "XdcJGSrfZ5E1"
      },
      "source": [
        " \n",
        "![pigenhole1](https://github.com/suhap/Probability/blob/master/pigenhole3.png?raw=true)\n",
        "\n",
        "\n",
        "\n",
        "\n",
        "\n",
        "\n",
        "\n",
        "\n"
      ]
    },
    {
      "cell_type": "markdown",
      "metadata": {
        "colab_type": "text",
        "id": "AdgwRUZOak7y"
      },
      "source": [
        "Cözüm: Uçgenin üç kenarının orta noktalarını birleştirelim. Böylece üçgeni kenar uzunlukları 1 olan dört eşkenar üçgene ayırmış oluruz. Bu üçgenin içinde beş nokta alırsak en az ikisi\n",
        "aynı küçük üçgenden olmak zorundadır. Aynı küçük üçgendeki noktalar arasındaki mesafe de 1’den küçük olacaktır elbette.(ref: https://nesinkoyleri.org/wp-content/uploads/2019/05/sayma.pdf)\n",
        "\n",
        "\n",
        "\n",
        " \n",
        "\n"
      ]
    }
  ]
}
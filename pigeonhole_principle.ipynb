{
  "nbformat": 4,
  "nbformat_minor": 0,
  "metadata": {
    "colab": {
      "name": "Copy of pigeonhole-principle.ipynb",
      "provenance": [],
      "include_colab_link": true
    },
    "kernelspec": {
      "name": "python3",
      "display_name": "Python 3"
    }
  },
  "cells": [
    {
      "cell_type": "markdown",
      "metadata": {
        "id": "view-in-github",
        "colab_type": "text"
      },
      "source": [
        "<a href=\"https://colab.research.google.com/github/suhap/Probability/blob/master/pigeonhole_principle.ipynb\" target=\"_parent\"><img src=\"https://colab.research.google.com/assets/colab-badge.svg\" alt=\"Open In Colab\"/></a>"
      ]
    },
    {
      "cell_type": "markdown",
      "metadata": {
        "id": "lulW78ChIONt",
        "colab_type": "text"
      },
      "source": [
        "#Güvercin Yuvası İkesi\n",
        "4 yuva ve 5 güvercinimiz olsun, Güvercinler yuvalarına girmek istediğinde en az bir yuvada birden fazla güvercin olacaktır.   \n",
        "\n",
        " \n"
      ]
    },
    {
      "cell_type": "markdown",
      "metadata": {
        "id": "ZN2OmvQH0jS4",
        "colab_type": "text"
      },
      "source": [
        "*Örnek 1. Küçük Gauss babasıyla ormanda gezerken sormuş:  \n",
        "− Bu ormanda iki ağacın yaprak  sayısının aynı olması hangi koşula bağlıdır? \n",
        "Baba Gauss cevap veremeyince yanıtı yine kendisi vermiş:  \n",
        "− Eğer ormandaki yapraklı ağaç sayısı, bu ormanın en çok yaprağı olan ağacın yaprak sayısından daha fazlaysa, en az iki ağacın yaprak saıyısı aynıdır.*  \n",
        "\n",
        "Ormanda 5 ağaç olsun ve her ağaç en fazla 4 yapraklı olsun. İlk dört ağacın yaprak sayıları 1, 2, 3, 4 olabilir. Ancak son ağacın yaprak sayısı bu sayılardan birine eşit  olacaktır.  "
      ]
    },
    {
      "cell_type": "markdown",
      "metadata": {
        "id": "w3mFQPjX0xsi",
        "colab_type": "text"
      },
      "source": [
        "\n",
        "*Örnek 2. Bir düzlemin bütün noktaları iki renkle boyanırsa, dört köşesi de aynı renkte olan\n",
        "bir dikdörtgen vardır.*  \n",
        "3 yatay ve 9 dikey doğru cizelim. 3 nokta iki renge 2^3 = 8 degşik sekilde boyanabileceğinden (renklere 0 ve 1 olsun: 000, 001, 010, 011, 100, 101, 110, 111), 9 dikey doğrunun en az ikisi aynı biçimde renklendirilmiş olmalıdır. 3 noktadan en az ikisi aynı renk olacağından aranan dikdörtgen bulunmuş olur"
      ]
    },
    {
      "cell_type": "markdown",
      "metadata": {
        "id": "FaXWTWwRwHpB",
        "colab_type": "text"
      },
      "source": [
        " \n",
        "![pigenhole1](https://github.com/suhap/Probability/blob/master/pigenhole1.png?raw=true)\n",
        "\n",
        "\n",
        "\n",
        "\n",
        "\n",
        "\n",
        "\n",
        "\n"
      ]
    },
    {
      "cell_type": "markdown",
      "metadata": {
        "colab_type": "text",
        "id": "Up6QYiBiqFP-"
      },
      "source": [
        "*Örnek 3. 1’le 50 arasından herhangi on sayı seçin.  Şimdi çok iddialı bir şey söyleyeceğim: Bu on sayı arasından, toplamları birbirine eşit olan iki tane beş sayılık küme bulabilirsiniz.*  \n",
        "\n",
        "Örneğin;\n",
        "\n",
        "\\{2, 5, 24, 26, 27, 30, 33, 34, 42, 50\\} \n",
        "\n",
        "sayılarınızı seçtiniz. Aşağıdaki beş öğeli altkümelere bakalım:\n",
        "\n",
        "\\{2, 5, 24, 26, 27, 30, 33, 34, 42, 50\\}\n",
        "\n",
        "Bu iki kümenin sayılarının toplamları birbirine eşittir. İnanmazsanız toplayın. A, on sayılık kümemiz olsun. A’nın kaç tane beş öğeli altkümesi vardır?\n",
        "\n",
        "Bu sorunu  cevabı 10'un 5 li kombinasyonudur. Oda 252 eder. \n",
        "\n",
        "Diğer taraftan beş öğenin toplamı en az 1+2+3+4+5 = 15 en çok ise 46+ 47+48+49+50=240 olmaktadır. Dolayısıyla toplamlar 240 -15+1=226 arasında değişmektedir. \n",
        "\n",
        "Sonuç olarak 252 tane küme toplamı 226 sayıdan biri olmak zorunda dolayısıyla güvercin yuvası ilkesine göre bu 252 toplamdan en az ikisi aynı olmak zorundadır. (ref:https://sarkac.org/2018/02/sapkadan-guvercin-cikarmak/)\n",
        "\n",
        " \n",
        "\n"
      ]
    },
    {
      "cell_type": "markdown",
      "metadata": {
        "colab_type": "text",
        "id": "9av_LLZCYs7F"
      },
      "source": [
        "*Örnek 4. Kenar uzunluğu 2 birim olan bir eşkenar uçgeninin içinde alınan beş noktadan en az ikisi arasındaki uzaklığın 1’den küçükeşit olduğunu gösteriniz.*  \n",
        "\n",
        "\n",
        "\n",
        " \n",
        "\n"
      ]
    },
    {
      "cell_type": "markdown",
      "metadata": {
        "colab_type": "text",
        "id": "XdcJGSrfZ5E1"
      },
      "source": [
        " \n",
        "![pigenhole1](https://github.com/suhap/Probability/blob/master/pigenhole3.png?raw=true)\n",
        "\n",
        "\n",
        "\n",
        "\n",
        "\n",
        "\n",
        "\n",
        "\n"
      ]
    },
    {
      "cell_type": "markdown",
      "metadata": {
        "colab_type": "text",
        "id": "AdgwRUZOak7y"
      },
      "source": [
        "Cözüm: Uçgenin üç kenarının orta noktalarını birleştirelim. Böylece üçgeni kenar uzunlukları 1 olan dört eşkenar üçgene ayırmış oluruz. Bu üçgenin içinde beş nokta alırsak en az ikisi\n",
        "aynı küçük üçgenden olmak zorundadır. Aynı küçük üçgendeki noktalar arasındaki mesafe de 1’den küçük olacaktır elbette.(ref: https://nesinkoyleri.org/wp-content/uploads/2019/05/sayma.pdf)\n",
        "\n",
        "\n",
        "\n",
        " \n",
        "\n"
      ]
    },
    {
      "cell_type": "markdown",
      "metadata": {
        "colab_type": "text",
        "id": "Jggo8Cqpcnr0"
      },
      "source": [
        " \n",
        "![pigenhole1](https://github.com/suhap/Probability/blob/master/pigenhole2.png?raw=true)\n",
        "\n",
        "\n",
        "\n",
        "\n",
        "\n",
        "\n",
        "\n",
        "\n"
      ]
    },
    {
      "cell_type": "markdown",
      "metadata": {
        "colab_type": "text",
        "id": "zX0lAzOWXd45"
      },
      "source": [
        "*Örnek 5. Rastgele seçilen bir grup insan bir odaya konuluyor. Odada bulunan kişilerin en az ikisinin aynı doğum gününe sahip olması şartı nedir?* \n",
        "\n",
        "Güvercin yuvası prensibine göre, eğer odada 367 kişi varsa, aynı doğum gününü paylaşan en az iki kişinin olduğunu biliyoruz, Çünkü seçilebilecek yalnızca 366 doğum günü vardır (29 Şubat dahil).  \n",
        "\n",
        "\n",
        "\n",
        " \n",
        "\n"
      ]
    },
    {
      "cell_type": "code",
      "metadata": {
        "id": "mhF9TEwLZz2n",
        "colab_type": "code",
        "colab": {
          "base_uri": "https://localhost:8080/",
          "height": 34
        },
        "outputId": "1f598786-3549-48b0-9403-188945a8f3af"
      },
      "source": [
        "from pylab import *\n",
        "import numpy as np\n",
        "# Odada bulunan insan sayısı (n)\n",
        "n = 367\n",
        "# Doğum günü sayısı (m)\n",
        "m = 366\n",
        "p = int(ceil(n/m))\n",
        "print(\"Yıl içindeki herhangi bir gün\", p, \"sayıda kişinin doğum günüdür.\")"
      ],
      "execution_count": 55,
      "outputs": [
        {
          "output_type": "stream",
          "text": [
            "Yıl içindeki herhangi bir gün 2 sayıda kişinin doğum günüdür.\n"
          ],
          "name": "stdout"
        }
      ]
    },
    {
      "cell_type": "markdown",
      "metadata": {
        "colab_type": "text",
        "id": "pc_AbtcKe9gz"
      },
      "source": [
        "*SORU: Bir odadaki insanlardan en az ikisinin doğum günlerinin aynı olma olasılığının yüzde elliden fazla olması için odada en az kaç kişi bulunmalıdır?* \n",
        "\n",
        "Standart bir yılda 365 gün olduğuna göre (işleri karıştırmamak için artık-yılları görmeyelim), salonda 366 kişi olursa en az iki tanesinin doğum günü kesinlikle aynı olur. Şöyle düşünün, sonuçta kötü şans 365 kişi farklı günlerde doğmuş olsa bile son katılan kişi mutlaka birisi ile eşleşecektir.\n",
        "\n",
        "Ancak kişi sayısını azaltınca işler ilginçleşmeye başlar…\n",
        "\n",
        "Kulağa inanılmaz gelse de, odada 57 kişi var ise ikisinin doğum gününün aynı olma olasılığı %99’dur. Yani neredeyse kesin!\n",
        "\n",
        "Fakat gerçek cevap bundan daha da şaşırtıcı…\n",
        "\n",
        "Olasılığın %50’den fazla olması için gereken kişi sayısı 23’tür.\n",
        "\n",
        "Başka bir deyişle, rastgele seçilen 23 kişinin içerisinde, kesin % 50 olasılıkla, iki ya da daha fazla kişi aynı doğum gününü paylaşacaktır.\n",
        "\n",
        "Şimdi nereden çıktı bu 23 diyebilirsiniz, anlatmaya çalışalım…\n",
        "\n",
        "Hiç artık yıl olmadığını, odada hiç ikiz olmadığını ve doğum günlerinin düzgün dağıldığını varsayılım.\n",
        "\n",
        "Doğum günlerinin aynı olması için bize bir çift insan lazım. Ardından olası çift sayısını göz önüne almalıyız.\n",
        "\n",
        "Örneğin odada 3 kişi var ise ( A,B,C) incelememiz gereken A-B, A-C,B-C çiftleri olacaktır. Dört kişi için incelememiz gereken altı çift vardır.\n",
        "\n",
        "Matematikte bunu hesaplamak için kombinasyon formülü kullanırız. Bu durumda 23 kişi ile C(23,2)=23×22/2 hesabını yaparsak 253 farklı çift elde ederiz.\n",
        "\n",
        "253 farklı çiftten birinin ortak doğum günü paylaşıyor olması akla şimdi daha yatkın geliyor elbette.\n",
        "\n",
        "Şimdi bu 23’ün nereden çıktığını açıklayalım…\n",
        "\n",
        "Olasılığı hesaplarken işi basitten tutalım, önce bir çiftle başlayalım. Ancak kişi sayısını arttırdıkça, iki kişinin aynı doğum günü paylaşma değil, paylaşmama olasılığına bakacağız.\n",
        "\n",
        "Örneğin, ikinci kişinin ilk kişiden doğum gününün farklı olma ihtimali 364/365 çünkü bir gün hariç 364 günden herhangi birinde doğmuş olabilir. Üçüncü bir kişinin doğum gününün bu ikisinden farklı olma ihtimali 363/365 olur bu mantıkla.\n",
        "\n",
        "Üçünün doğum günlerinin farklı olma ihtimali ise bu iki ikilinin çarpımı kadardır çünkü olasılık kuramında iki farklı olayın birlikte olma olasılığını hesaplarken ikisinin olasılıklarını çarparız.\n",
        "\n",
        "(364/365) . (363/365) = 0,9918\n",
        "\n",
        "Bu mantığı 4, 5, 6, … kişi için sürdürürsek doğum günü probleminin gizemini çözebiliriz.\n",
        "\n",
        "23’üncü kişiye geldiğimizde kimsenin doğum gününün aynı olmama ihtimali için hesap makinemizde 0,4927 sayısını görürüz. Bunun tersi, yani “en az iki kişinin doğum günün aynı olma ihtimali ise 1- 0,4927=0,5073 kadardır ki bu sayı yüzde 50 den büyüktür.\n",
        "\n",
        "Evet, herhangi ortak bir doğum günü bulunmasının % 50 kesinlik kazanması için en az 23 kişinin bulunması gerekir ancak bu belirli doğum günleri, örneğin 19 Mart, için geçerli değildir.\n",
        "\n",
        "19 Mart gibi belirli bir doğum gününün gruptan birinin doğum günü olmasından % 50 emin olabilmek için daha büyük bir grup, tam bir sayı vermek gerekirse 254 kişi gerekir.\n",
        "\n",
        "Bu son gerçek şöyle elde edilir: Gruptan bir kişinin doğum gününün 19 Mart olmama olasılığı 364/365 olduğu için ve doğum günleri bağımsız olduğu için iki kişinin doğum günlerinin 19 Mart olmama olasılığı 364/365 x 364/365’tir.\n",
        "\n",
        "Yani N kişinin 19 Martta doğmuş olmama olasılığı N tane (364/365)in birbiri ile çarpımıdır ki burada N=253 olduğunda sonuç yaklaşık 1/2’dir.\n",
        "\n",
        "Böylece bu 254 kişiden en az birinin 19 Mart’ta doğmuş olma tamamlayan olasılığı 1/2 ya da % 50’dir.\n",
        "\n",
        "\n",
        "\n"
      ]
    },
    {
      "cell_type": "code",
      "metadata": {
        "colab_type": "code",
        "outputId": "33ce8059-f8b2-479b-e82e-7e1c2a3f58ec",
        "id": "CTtx5VnP5no6",
        "colab": {
          "base_uri": "https://localhost:8080/",
          "height": 867
        }
      },
      "source": [
        "from pylab import *\n",
        "import numpy as np\n",
        " \n",
        "def birthday_clash(n):\n",
        "  p=1\n",
        "  for i in range(n):\n",
        "    p=p*((365-i)/365)\n",
        "  p=round(100*p,4)\n",
        "  return p\n",
        "\n",
        "for n in range(50):\n",
        "  print(n,birthday_clash(n))\n"
      ],
      "execution_count": 54,
      "outputs": [
        {
          "output_type": "stream",
          "text": [
            "0 100\n",
            "1 100.0\n",
            "2 99.726\n",
            "3 99.1796\n",
            "4 98.3644\n",
            "5 97.2864\n",
            "6 95.9538\n",
            "7 94.3764\n",
            "8 92.5665\n",
            "9 90.5376\n",
            "10 88.3052\n",
            "11 85.8859\n",
            "12 83.2975\n",
            "13 80.559\n",
            "14 77.6897\n",
            "15 74.7099\n",
            "16 71.6396\n",
            "17 68.4992\n",
            "18 65.3089\n",
            "19 62.0881\n",
            "20 58.8562\n",
            "21 55.6312\n",
            "22 52.4305\n",
            "23 49.2703\n",
            "24 46.1656\n",
            "25 43.13\n",
            "26 40.1759\n",
            "27 37.3141\n",
            "28 34.5539\n",
            "29 31.9031\n",
            "30 29.3684\n",
            "31 26.9545\n",
            "32 24.6652\n",
            "33 22.5028\n",
            "34 20.4683\n",
            "35 18.5617\n",
            "36 16.7818\n",
            "37 15.1266\n",
            "38 13.5932\n",
            "39 12.178\n",
            "40 10.8768\n",
            "41 9.6848\n",
            "42 8.597\n",
            "43 7.6077\n",
            "44 6.7115\n",
            "45 5.9024\n",
            "46 5.1747\n",
            "47 4.5226\n",
            "48 3.9402\n",
            "49 3.422\n"
          ],
          "name": "stdout"
        }
      ]
    }
  ]
}
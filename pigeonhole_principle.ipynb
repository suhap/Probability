{
  "nbformat": 4,
  "nbformat_minor": 0,
  "metadata": {
    "colab": {
      "name": "pigeonhole-principle.ipynb",
      "version": "0.3.2",
      "provenance": [],
      "include_colab_link": true
    },
    "kernelspec": {
      "name": "python3",
      "display_name": "Python 3"
    }
  },
  "cells": [
    {
      "cell_type": "markdown",
      "metadata": {
        "id": "view-in-github",
        "colab_type": "text"
      },
      "source": [
        "<a href=\"https://colab.research.google.com/github/suhap/Probability/blob/master/pigeonhole_principle.ipynb\" target=\"_parent\"><img src=\"https://colab.research.google.com/assets/colab-badge.svg\" alt=\"Open In Colab\"/></a>"
      ]
    },
    {
      "metadata": {
        "id": "lulW78ChIONt",
        "colab_type": "text"
      },
      "cell_type": "markdown",
      "source": [
        "#Güvercin Yuvası İkesi\n",
        "Küçük Gauss babasıyla ormanda gezerken sormuş:  \n",
        "− Bu ormanda iki ağacın yaprak  sayısının aynı olması hangi koşula bağlıdır? \n",
        "Baba Gauss cevap veremeyince yanıtı yine kendisi vermiş:  \n",
        "− Eğer ormandaki yapraklı ağaç sayısı, bu ormanın en çok yaprağı olan ağacın yaprak sayısından daha fazlaysa, en az iki ağacın yaprak saıyısı aynıdır.\n",
        " Ormanda 5 ağaç olsun ve her ağaç en fazla 4 yapraklı olsun. İlk dört ağacın yaprak sayıları 1, 2, 3, 4 olabilir. Ancak son ağacın yaprak sayısı bu sayılardan birine eşit  olacaktır.  \n",
        " \n",
        "4 yuva ve 5 güvercinimiz olsun, Güvercinler yuvalarına girmek istediğinde en az bir yuvada birden fazla güvercin olacaktır.   \n",
        "*Örnek 1. Bir düzlemin bütün noktaları iki renkle boyanırsa, dört köşesi de aynı renkte olan\n",
        "bir dikdörtgen vardır.*"
      ]
    },
    {
      "metadata": {
        "id": "FaXWTWwRwHpB",
        "colab_type": "text"
      },
      "cell_type": "markdown",
      "source": [
        "![alt text](https://)"
      ]
    }
  ]
}
{
  "nbformat": 4,
  "nbformat_minor": 0,
  "metadata": {
    "colab": {
      "provenance": [],
      "include_colab_link": true
    },
    "kernelspec": {
      "name": "python3",
      "display_name": "Python 3"
    }
  },
  "cells": [
    {
      "cell_type": "markdown",
      "metadata": {
        "id": "view-in-github",
        "colab_type": "text"
      },
      "source": [
        "<a href=\"https://colab.research.google.com/github/suhap/Probability/blob/master/Permutasyon1.ipynb\" target=\"_parent\"><img src=\"https://colab.research.google.com/assets/colab-badge.svg\" alt=\"Open In Colab\"/></a>"
      ]
    },
    {
      "cell_type": "markdown",
      "metadata": {
        "id": "BUOhKUkrjdxy"
      },
      "source": [
        "# Soru 1: Permütasyon\n",
        "\n",
        "16 kareden oluşan 1. şeklin her satır ve her sütununda bir kare karalanarak 2. şekildeki gibi desen elde edilir. Bu kurala göre, en çok kaç farklı desen elde edilebilir?<br>\n",
        "![fig:square](https://www.matematikkolay.net/wp-content/uploads/2017/02/komb_sgr9.png) <hr>\n",
        "\n",
        "# Çözüm:\n",
        "\n",
        "1. satırda 1 kareyi karalayalım. 4 şeçenek var.\n",
        "2. satırda yukarısı ile aynı olmayacak şekilde 3 şeçenekten biri karalanır.\n",
        "3. satırda 2 seçenek var.\n",
        "4. satırda 1 seçenek var.<br>\n",
        "P(n, r) = n! / (n-r)!<br>\n",
        "\n",
        "P = P(4,3)*P(3,2)*P(2,1)*P(1,0)<br>\n",
        "Sonuç = 4.3.2.1 = 24"
      ]
    },
    {
      "cell_type": "code",
      "metadata": {
        "id": "pbU_85qtjg3K",
        "colab": {
          "base_uri": "https://localhost:8080/"
        },
        "outputId": "9f8c41ae-9270-4e24-a70f-4aea2bdbc91d"
      },
      "source": [
        "def fact(n): # klasik recursive factorial fonksiyonu\n",
        "    if n == 0:\n",
        "        return 1\n",
        "    else:\n",
        "        return n * fact(n-1)\n",
        "\n",
        "sutun = 4\n",
        "perm = 0\n",
        "res = 1\n",
        "# Ayrık olasılık ve her satır için farklı işlem yapacak.\n",
        "for i in range(4):\n",
        "  perm = fact(sutun) / fact(sutun - 1) # Permütasyon formülü\n",
        "  sutun -= 1  # Bir sütun kullanıldığı için eksiltiyoruz.\n",
        "  res *= perm # Her satırın permütasyonunu çarpıyoruz.\n",
        "\n",
        "print(round(res),\"farklı desen oluşturulabilir.\")"
      ],
      "execution_count": 1,
      "outputs": [
        {
          "output_type": "stream",
          "name": "stdout",
          "text": [
            "24 farklı desen oluşturulabilir.\n"
          ]
        }
      ]
    }
  ]
}